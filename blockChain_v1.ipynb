{
  "nbformat": 4,
  "nbformat_minor": 0,
  "metadata": {
    "colab": {
      "provenance": []
    },
    "kernelspec": {
      "name": "python3",
      "display_name": "Python 3"
    },
    "language_info": {
      "name": "python"
    }
  },
  "cells": [
    {
      "cell_type": "code",
      "source": [
        "### Importacion de librerias\n",
        "import hashlib\n",
        "import time"
      ],
      "metadata": {
        "id": "Zht30C13LR5w"
      },
      "execution_count": null,
      "outputs": []
    },
    {
      "cell_type": "code",
      "source": [
        "### Definicion de funcion para hashear una cadenas de texto\n",
        "\n",
        "def hash_tx(tx):\n",
        "  hash_object = hashlib.sha256(tx.encode())\n",
        "  hash_hex = hash_object.hexdigest()\n",
        "  return hash_hex"
      ],
      "metadata": {
        "id": "rhgBAf53FNA-"
      },
      "execution_count": null,
      "outputs": []
    },
    {
      "cell_type": "code",
      "source": [
        "### se crea la funcion de arbol de merkel\n",
        "\n",
        "def create_markle_root(transactions):\n",
        "  hashed_transactions = [hash_tx(tx) for tx in transactions]\n",
        "\n",
        "  while len(hashed_transactions) > 1:\n",
        "    if len(hashed_transactions) % 2 != 0:\n",
        "      hashed_transactions.append(hashed_transactions[-1])\n",
        "    new_lvl = []\n",
        "    for i in range(0, len(hashed_transactions), 2):\n",
        "      concatenate_hasheds = hashed_transactions[i] + hashed_transactions[i + 1]\n",
        "      new_hash = hash_tx(concatenate_hasheds)\n",
        "      new_lvl.append(new_hash)\n",
        "\n",
        "    hashed_transactions = new_lvl\n",
        "  return hashed_transactions"
      ],
      "metadata": {
        "id": "odE0XOPKLqF_"
      },
      "execution_count": null,
      "outputs": []
    },
    {
      "cell_type": "code",
      "source": [
        "class Block:\n",
        "  def __init__(self, previous_hash, transactions):\n",
        "    self.previous_hash = previous_hash\n",
        "    self.transactions = transactions\n",
        "    self.timestamp = time.time()\n",
        "    self.merkle_root = create_markle_root(transactions)\n",
        "    self.nonce = 0\n",
        "    self.hash = self.calculate_hash()\n",
        "\n",
        "  def calculate_hash(self):\n",
        "    block_content = str(self.previous_hash) + str(self.merkle_root) + str(self.timestamp) + str(self.nonce)\n",
        "    return hash_tx(block_content)\n",
        "\n",
        "  def mine_block(self, difficulty):\n",
        "    required_prefix = \"0\" * difficulty\n",
        "    while not self.hash.startswith(required_prefix):\n",
        "      self.nonce += 1\n",
        "      self.hash = self.calculate_hash()\n",
        "    print(\"Bloque minado:\" + self.hash)"
      ],
      "metadata": {
        "id": "B055YKZkMvSu"
      },
      "execution_count": null,
      "outputs": []
    },
    {
      "cell_type": "code",
      "source": [
        "### Lista de transacciones\n",
        "\n",
        "transactions1 = [\n",
        "    \"Transacción 1\",\n",
        "    \"Transacción 2\",\n",
        "    \"Transacción 3\",\n",
        "    \"Transacción 4\"\n",
        "]"
      ],
      "metadata": {
        "id": "VXaOyvu8rLXn"
      },
      "execution_count": null,
      "outputs": []
    },
    {
      "cell_type": "code",
      "source": [
        "### creacion del bloque genesis\n",
        "genesis_block = Block(\"0\", transactions1)"
      ],
      "metadata": {
        "id": "-3XzjxsDMvPi"
      },
      "execution_count": null,
      "outputs": []
    },
    {
      "cell_type": "code",
      "source": [
        "###Imprime las vairables dentro del block genesis\n",
        "print(vars(genesis_block))"
      ],
      "metadata": {
        "id": "3GX14ihbeBXX",
        "colab": {
          "base_uri": "https://localhost:8080/"
        },
        "outputId": "d9a0d471-b937-4bb4-c70b-0b5c66593d4c"
      },
      "execution_count": null,
      "outputs": [
        {
          "output_type": "stream",
          "name": "stdout",
          "text": [
            "{'previous_hash': '0', 'transactions': ['Transacción 1', 'Transacción 2', 'Transacción 3', 'Transacción 4'], 'timestamp': 1725233385.5907888, 'merkle_root': ['7085d44355b195a817fe637158bae4c7783f4353ec61774bc6d80e0b17636b1c'], 'nonce': 0, 'hash': '724eb2b2dc4b4e114fa7aa6f38d8630d1fb8c7b8f7c0873176351e0ad8448db7'}\n"
          ]
        }
      ]
    },
    {
      "cell_type": "code",
      "source": [
        "###Calcula el hash bloque genesis\n",
        "genesis_block.mine_block(5)\n",
        "print(genesis_block.hash)"
      ],
      "metadata": {
        "colab": {
          "base_uri": "https://localhost:8080/"
        },
        "id": "qxmBa03_l4Kl",
        "outputId": "c0954af6-4ec5-4a62-b9bc-01764a36d103"
      },
      "execution_count": null,
      "outputs": [
        {
          "output_type": "stream",
          "name": "stdout",
          "text": [
            "Bloque minado: {self.hash}\n",
            "000004d0739c41884baf699180f354b43e7a4859ee76d07192e692314e6b00de\n"
          ]
        }
      ]
    },
    {
      "cell_type": "code",
      "source": [
        "class Blockchain:\n",
        "  def __init__(self, difficulty):\n",
        "    self.chain = []  # Lista que contendrá todos los bloques\n",
        "    self.difficulty = difficulty # Puedes ajustar la dificultad según lo necesites\n",
        "\n",
        "    # Crear el bloque génesis (el primer bloque de la cadena)\n",
        "    genesis_block = Block(\"0\", [\"Genesis Block\"])\n",
        "    genesis_block.mine_block(self.difficulty)\n",
        "    self.chain.append(genesis_block)\n",
        "\n",
        "  def get_latest_block(self):\n",
        "    # Retorna el último bloque de la cadena\n",
        "    return self.chain[-1]\n",
        "\n",
        "  def add_block(self, new_block):\n",
        "    # Establecer el hash del bloque anterior\n",
        "    new_block.previous_hash = self.get_latest_block().hash\n",
        "\n",
        "    # Minar el nuevo bloque\n",
        "    new_block.mine_block(self.difficulty)\n",
        "\n",
        "    # Agregar el nuevo bloque a la cadena\n",
        "    self.chain.append(new_block)\n",
        "\n",
        "  def is_chain_valid(self):\n",
        "    # Verifica la integridad de la cadena de bloques\n",
        "    for i in range(1, len(self.chain)):\n",
        "        current_block = self.chain[i]\n",
        "        previous_block = self.chain[i - 1]\n",
        "\n",
        "        # Verificar que el hash actual es correcto\n",
        "        if current_block.hash != current_block.calculate_hash():\n",
        "            print(\"Hash incorrecto en el bloque:\", i)\n",
        "            return False\n",
        "\n",
        "        # Verificar que el bloque apunta correctamente al bloque anterior\n",
        "        if current_block.previous_hash != previous_block.hash:\n",
        "            print(\"Enlace roto entre bloques:\", i)\n",
        "            return False\n",
        "\n",
        "    return True\n"
      ],
      "metadata": {
        "id": "qDB_QtGRMu-R"
      },
      "execution_count": null,
      "outputs": []
    },
    {
      "cell_type": "code",
      "source": [
        "# Crear una instancia de la blockchain\n",
        "my_blockchain = Blockchain(5)\n",
        "\n",
        "# Agregar nuevos bloques a la blockchain\n",
        "new_block_1 = Block(my_blockchain.get_latest_block().hash, [\"Transacción 1\", \"Transacción 2\"])\n",
        "my_blockchain.add_block(new_block_1)\n",
        "\n",
        "new_block_2 = Block(my_blockchain.get_latest_block().hash, [\"Transacción 3\", \"Transacción 4\"])\n",
        "my_blockchain.add_block(new_block_2)"
      ],
      "metadata": {
        "colab": {
          "base_uri": "https://localhost:8080/"
        },
        "id": "qtJAqiP3GJcN",
        "outputId": "00b01cc8-cf9c-4422-bb73-2d63f9646e3e"
      },
      "execution_count": null,
      "outputs": [
        {
          "output_type": "stream",
          "name": "stdout",
          "text": [
            "Bloque minado:00000a12434a241e6025254b8c1410bacb20c151990fec36e2d0206d00a5d276\n",
            "Bloque minado:000008c9a0d0b69e3e193bfedb3b8eef46c09d1ac2e5ce88e963989181a97efe\n",
            "Bloque minado:000009e4f13a05e9dd170d496d30f1e22fd5321dd9a0e43f7ec7ae7f3dcca4b4\n"
          ]
        }
      ]
    }
  ]
}
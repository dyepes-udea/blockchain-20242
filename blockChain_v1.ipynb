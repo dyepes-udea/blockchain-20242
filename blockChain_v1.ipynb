{
  "nbformat": 4,
  "nbformat_minor": 0,
  "metadata": {
    "colab": {
      "provenance": []
    },
    "kernelspec": {
      "name": "python3",
      "display_name": "Python 3"
    },
    "language_info": {
      "name": "python"
    }
  },
  "cells": [
    {
      "cell_type": "code",
      "source": [
        "### Importacion de librerias\n",
        "import hashlib\n",
        "import time"
      ],
      "metadata": {
        "id": "Zht30C13LR5w"
      },
      "execution_count": 2,
      "outputs": []
    },
    {
      "cell_type": "code",
      "source": [
        "### Definicion de funcion para hashear una cadenas de texto\n",
        "\n",
        "def hash_tx(tx):\n",
        "  hash_object = hashlib.sha256(tx.encode())\n",
        "  hash_hex = hash_object.hexdigest()\n",
        "  return hash_hex"
      ],
      "metadata": {
        "id": "rhgBAf53FNA-"
      },
      "execution_count": 3,
      "outputs": []
    },
    {
      "cell_type": "code",
      "source": [
        "### se crea la funcion de arbol de merkel\n",
        "\n",
        "def create_markle_root(transactions):\n",
        "  hashed_transactions = [hash_tx(tx) for tx in transactions]\n",
        "\n",
        "  while len(hashed_transactions) > 1:\n",
        "    if len(hashed_transactions) % 2 != 0:\n",
        "      hashed_transactions.append(hashed_transactions[-1])\n",
        "    new_lvl = []\n",
        "    for i in range(0, len(hashed_transactions), 2):\n",
        "      concatenate_hasheds = hashed_transactions[i] + hashed_transactions[i + 1]\n",
        "      new_hash = hash_tx(concatenate_hasheds)\n",
        "      new_lvl.append(new_hash)\n",
        "\n",
        "    hashed_transactions = new_lvl\n",
        "  return hashed_transactions"
      ],
      "metadata": {
        "id": "odE0XOPKLqF_"
      },
      "execution_count": 4,
      "outputs": []
    },
    {
      "cell_type": "code",
      "source": [
        "class Block:\n",
        "  def __init__(self, previous_hash, transactions, miner_address):\n",
        "    self.previous_hash = previous_hash\n",
        "    self.transactions = [\"Coinbase transaction: reward to \" + miner_address] + transactions\n",
        "    self.timestamp = time.time()\n",
        "    self.merkle_root = create_markle_root(transactions)\n",
        "    self.nonce = 0\n",
        "    self.hash = self.calculate_hash()\n",
        "\n",
        "  def calculate_hash(self):\n",
        "    block_content = str(self.previous_hash) + str(self.merkle_root) + str(self.timestamp) + str(self.nonce)\n",
        "    return hash_tx(block_content)\n",
        "\n",
        "  def mine_block(self, difficulty):\n",
        "    required_prefix = \"0\" * difficulty\n",
        "    while not self.hash.startswith(required_prefix):\n",
        "      self.nonce += 1\n",
        "      self.hash = self.calculate_hash()\n",
        "    print(\"Bloque minado:\" + self.hash)"
      ],
      "metadata": {
        "id": "B055YKZkMvSu"
      },
      "execution_count": 5,
      "outputs": []
    },
    {
      "cell_type": "code",
      "source": [
        "### Lista de transacciones\n",
        "\n",
        "transactions1 = [\n",
        "    \"Transacción 1\",\n",
        "    \"Transacción 2\",\n",
        "    \"Transacción 3\",\n",
        "    \"Transacción 4\"\n",
        "]\n",
        "\n",
        "transactions2 = [\n",
        "    \"Transacción 5\",\n",
        "    \"Transacción 6\",\n",
        "    \"Transacción 7\",\n",
        "    \"Transacción 8\"\n",
        "]"
      ],
      "metadata": {
        "id": "VXaOyvu8rLXn"
      },
      "execution_count": 6,
      "outputs": []
    },
    {
      "cell_type": "code",
      "source": [
        "### creacion del bloque genesis\n",
        "### genesis_block = Block(\"0\", transactions1, \"Miner\")"
      ],
      "metadata": {
        "id": "-3XzjxsDMvPi"
      },
      "execution_count": 7,
      "outputs": []
    },
    {
      "cell_type": "code",
      "source": [
        "###Imprime las vairables dentro del block genesis\n",
        "### print(vars(genesis_block))"
      ],
      "metadata": {
        "id": "3GX14ihbeBXX"
      },
      "execution_count": 8,
      "outputs": []
    },
    {
      "cell_type": "code",
      "source": [
        "###Calcula el hash bloque genesis\n",
        "### genesis_block.mine_block(5)\n",
        "### print(genesis_block.hash)"
      ],
      "metadata": {
        "id": "qxmBa03_l4Kl"
      },
      "execution_count": 9,
      "outputs": []
    },
    {
      "cell_type": "code",
      "source": [
        "class Blockchain:\n",
        "  def __init__(self, difficulty):\n",
        "    self.chain = []  # Lista que contendrá todos los bloques\n",
        "    self.difficulty = difficulty # Puedes ajustar la dificultad según lo necesites\n",
        "\n",
        "    # Crear el bloque génesis (el primer bloque de la cadena)\n",
        "    genesis_block = Block(\"0\", [\"Genesis Block\"], \"Miner\")\n",
        "    genesis_block.mine_block(self.difficulty)\n",
        "    self.chain.append(genesis_block)\n",
        "\n",
        "  def get_latest_block(self):\n",
        "    # Retorna el último bloque de la cadena\n",
        "    return self.chain[-1]\n",
        "\n",
        "  def add_block(self, new_block):\n",
        "    # Establecer el hash del bloque anterior\n",
        "    new_block.previous_hash = self.get_latest_block().hash\n",
        "\n",
        "    # Minar el nuevo bloque\n",
        "    new_block.mine_block(self.difficulty)\n",
        "\n",
        "    if self.validate_transactions(new_block.transactions):\n",
        "      self.chain.append(new_block)\n",
        "    else:\n",
        "      print(\"Transacciones inválidas. El bloque no se ha agregado.\")\n",
        "\n",
        "  def validate_transactions(self, transactions):\n",
        "\n",
        "  # Valida las transacciones en el bloque.\n",
        "  # En este ejemplo, la validación simplemente verifica que no haya transacciones duplicadas.\n",
        "    transaction_set = set()\n",
        "    for tx in transactions:\n",
        "        if tx in transaction_set:\n",
        "            print(\"Transacción duplicada detectada:\", tx)\n",
        "            return False\n",
        "        transaction_set.add(tx)\n",
        "    return True\n",
        "\n",
        "  def is_chain_valid(self):\n",
        "    # Verifica la integridad de la cadena de bloques\n",
        "    for i in range(1, len(self.chain)):\n",
        "        current_block = self.chain[i]\n",
        "        previous_block = self.chain[i - 1]\n",
        "\n",
        "        # Verificar que el hash actual es correcto\n",
        "        if current_block.hash != current_block.calculate_hash():\n",
        "            print(\"Hash incorrecto en el bloque:\", i)\n",
        "            return False\n",
        "\n",
        "        # Verificar que el bloque apunta correctamente al bloque anterior\n",
        "        if current_block.previous_hash != previous_block.hash:\n",
        "            print(\"Enlace roto entre bloques:\", i)\n",
        "            return False\n",
        "\n",
        "    return True\n"
      ],
      "metadata": {
        "id": "qDB_QtGRMu-R"
      },
      "execution_count": 31,
      "outputs": []
    },
    {
      "cell_type": "code",
      "source": [
        "# Crear una instancia de la blockchain\n",
        "my_blockchain = Blockchain(5)"
      ],
      "metadata": {
        "colab": {
          "base_uri": "https://localhost:8080/"
        },
        "id": "qtJAqiP3GJcN",
        "outputId": "b3542b42-2ab7-4c0c-c056-7c559b47ad26"
      },
      "execution_count": 41,
      "outputs": [
        {
          "output_type": "stream",
          "name": "stdout",
          "text": [
            "Bloque minado:000006225a849e4eafee17d9d76d9462be8c35dda4cb7bc18fa52673478ec903\n"
          ]
        }
      ]
    },
    {
      "cell_type": "code",
      "source": [
        "# Agregar nuevos bloques a la blockchain\n",
        "new_block_1 = Block(my_blockchain.get_latest_block().hash, transactions1,\"wallet1\")\n",
        "my_blockchain.add_block(new_block_1)"
      ],
      "metadata": {
        "colab": {
          "base_uri": "https://localhost:8080/"
        },
        "id": "d7VieAb6xe0k",
        "outputId": "f7535be2-92e9-4297-e7a0-d94cf4150106"
      },
      "execution_count": 42,
      "outputs": [
        {
          "output_type": "stream",
          "name": "stdout",
          "text": [
            "Bloque minado:0000001c8215a4131329b1b6caf6074e8926b05fe3e8a3724c5af353c4f653d2\n"
          ]
        }
      ]
    },
    {
      "cell_type": "code",
      "source": [
        "# Agregar nuevos bloques a la blockchain\n",
        "new_block_2 = Block(my_blockchain.get_latest_block().hash, transactions2, \"wallet2\")\n",
        "my_blockchain.add_block(new_block_2)"
      ],
      "metadata": {
        "colab": {
          "base_uri": "https://localhost:8080/"
        },
        "id": "2IDUFBDexee-",
        "outputId": "0a7f1315-f063-4250-b9a2-b58765de5145"
      },
      "execution_count": 44,
      "outputs": [
        {
          "output_type": "stream",
          "name": "stdout",
          "text": [
            "Bloque minado:0000085776d7fdac0ed36310d928f84eb095b42347dad0f00c4eff8233014652\n"
          ]
        }
      ]
    },
    {
      "cell_type": "code",
      "source": [
        "# Verificar la validez de la cadena\n",
        "print(\"¿La cadena es válida?\", my_blockchain.is_chain_valid())"
      ],
      "metadata": {
        "colab": {
          "base_uri": "https://localhost:8080/"
        },
        "id": "CDvKkz_Nt47J",
        "outputId": "c4cd1710-b16a-4066-a413-434d64cf2103"
      },
      "execution_count": 46,
      "outputs": [
        {
          "output_type": "stream",
          "name": "stdout",
          "text": [
            "¿La cadena es válida? True\n"
          ]
        }
      ]
    },
    {
      "cell_type": "code",
      "source": [
        "for i, block in enumerate(my_blockchain.chain):\n",
        "    print(f\"Bloque {i} - Hash: {block.hash} - Hash Anterior: {block.previous_hash}\")\n"
      ],
      "metadata": {
        "colab": {
          "base_uri": "https://localhost:8080/"
        },
        "id": "4MFSuACSzyUg",
        "outputId": "f0b98ee8-424d-4e6a-c2d8-11026996ea3a"
      },
      "execution_count": 45,
      "outputs": [
        {
          "output_type": "stream",
          "name": "stdout",
          "text": [
            "Bloque 0 - Hash: 000006225a849e4eafee17d9d76d9462be8c35dda4cb7bc18fa52673478ec903 - Hash Anterior: 0\n",
            "Bloque 1 - Hash: 0000001c8215a4131329b1b6caf6074e8926b05fe3e8a3724c5af353c4f653d2 - Hash Anterior: 000006225a849e4eafee17d9d76d9462be8c35dda4cb7bc18fa52673478ec903\n",
            "Bloque 2 - Hash: 0000096fbedde2ad843fcdc88d5337a9148ff3d130398fdc8f24b9d5f6bbdfa4 - Hash Anterior: 0000001c8215a4131329b1b6caf6074e8926b05fe3e8a3724c5af353c4f653d2\n",
            "Bloque 3 - Hash: 0000085776d7fdac0ed36310d928f84eb095b42347dad0f00c4eff8233014652 - Hash Anterior: 0000096fbedde2ad843fcdc88d5337a9148ff3d130398fdc8f24b9d5f6bbdfa4\n"
          ]
        }
      ]
    }
  ]
}